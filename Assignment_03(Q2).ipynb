{
  "nbformat": 4,
  "nbformat_minor": 0,
  "metadata": {
    "colab": {
      "provenance": [],
      "authorship_tag": "ABX9TyOFr/a2wBH6TIP59VgSIBB1",
      "include_colab_link": true
    },
    "kernelspec": {
      "name": "python3",
      "display_name": "Python 3"
    },
    "language_info": {
      "name": "python"
    }
  },
  "cells": [
    {
      "cell_type": "markdown",
      "metadata": {
        "id": "view-in-github",
        "colab_type": "text"
      },
      "source": [
        "<a href=\"https://colab.research.google.com/github/ko-source/BitCoin/blob/main/Assignment_03(Q2).ipynb\" target=\"_parent\"><img src=\"https://colab.research.google.com/assets/colab-badge.svg\" alt=\"Open In Colab\"/></a>"
      ]
    },
    {
      "cell_type": "code",
      "execution_count": 14,
      "metadata": {
        "colab": {
          "base_uri": "https://localhost:8080/"
        },
        "id": "YbKGeltmoXrj",
        "outputId": "2d2ba986-38ad-4c5c-9884-3e1f3c4bcc0f"
      },
      "outputs": [
        {
          "output_type": "stream",
          "name": "stdout",
          "text": [
            "Initial Experiment (2/3 Train, 1/3 Test Split)\n",
            "Incorrect Logistic Regression: 3\n",
            "Incorrect SVM: 2\n",
            "Incorrect MLP: 2\n",
            "\n",
            "Rerun Experiment (80/20 Train, 20/80 Test Split)\n",
            "Incorrect Logistic Regression: 1\n",
            "Incorrect SVM: 1\n",
            "Incorrect MLP: 0\n"
          ]
        }
      ],
      "source": [
        "# 24 November 2023\n",
        "# CSC461 – Assignment3 – Machine Learning\n",
        "# Komal Khizar\n",
        "# FA20-BSE-096\n",
        "# This task involves applying Logistic Regression, Support Vector Machines,\n",
        "# and Multilayer Perceptron algorithms to a gender prediction dataset, first with a 2/3 train and 1/3 test split,\n",
        "# then with an 80/20 split. The objectives are to assess classification accuracy,\n",
        "# identify the two most influential attributes, exclude them, and observe the impact on model performance.\n",
        "#  The analysis aims to understand the effect of training/test split ratios and feature importance on classification outcomes.\n",
        "import pandas as pd\n",
        "from sklearn.model_selection import train_test_split\n",
        "from sklearn.preprocessing import LabelEncoder, StandardScaler\n",
        "from sklearn.linear_model import LogisticRegression\n",
        "from sklearn.svm import SVC\n",
        "from sklearn.neural_network import MLPClassifier\n",
        "from sklearn.metrics import accuracy_score\n",
        "\n",
        "# Read the dataset\n",
        "data = pd.read_csv('gender-prediction.csv')\n",
        "\n",
        "# Convert categorical variables to numeric using label encoding\n",
        "label_encoders = {}\n",
        "for column in ['beard', 'hair_length', 'scarf', 'eye_color']:\n",
        "    le = LabelEncoder()\n",
        "    data[column] = le.fit_transform(data[column])\n",
        "    label_encoders[column] = le\n",
        "\n",
        "# Splitting the data into features (X) and target variable (y)\n",
        "X = data.drop('gender', axis=1)\n",
        "y = data['gender']\n",
        "\n",
        "# Scaling the features\n",
        "scaler = StandardScaler()\n",
        "X_scaled = scaler.fit_transform(X)\n",
        "\n",
        "# Splitting the dataset into training (2/3) and testing (1/3) sets\n",
        "X_train, X_test, y_train, y_test = train_test_split(X_scaled, y, test_size=1/3, random_state=42)\n",
        "\n",
        "# Initializing the models with increased max_iter for Logistic Regression and MLP\n",
        "logistic_regression_model = LogisticRegression(max_iter=1000)\n",
        "svm_model = SVC()\n",
        "mlp_model = MLPClassifier(max_iter=1000)\n",
        "\n",
        "# Training the models\n",
        "logistic_regression_model.fit(X_train, y_train)\n",
        "svm_model.fit(X_train, y_train)\n",
        "mlp_model.fit(X_train, y_train)\n",
        "\n",
        "# Making predictions with each model\n",
        "lr_predictions = logistic_regression_model.predict(X_test)\n",
        "svm_predictions = svm_model.predict(X_test)\n",
        "mlp_predictions = mlp_model.predict(X_test)\n",
        "\n",
        "# Calculating the number of incorrectly classified instances\n",
        "incorrect_lr = (y_test != lr_predictions).sum()\n",
        "incorrect_svm = (y_test != svm_predictions).sum()\n",
        "incorrect_mlp = (y_test != mlp_predictions).sum()\n",
        "\n",
        "print(\"Initial Experiment (2/3 Train, 1/3 Test Split)\")\n",
        "print(\"Incorrect Logistic Regression:\", incorrect_lr)\n",
        "print(\"Incorrect SVM:\", incorrect_svm)\n",
        "print(\"Incorrect MLP:\", incorrect_mlp)\n",
        "\n",
        "# Rerun the experiment with 80/20 train/test split\n",
        "X_train_80, X_test_80, y_train_80, y_test_80 = train_test_split(X_scaled, y, test_size=0.20, random_state=42)\n",
        "\n",
        "# Training the models again\n",
        "logistic_regression_model.fit(X_train_80, y_train_80)\n",
        "svm_model.fit(X_train_80, y_train_80)\n",
        "mlp_model.fit(X_train_80, y_train_80)\n",
        "\n",
        "# Making new predictions\n",
        "lr_predictions_80 = logistic_regression_model.predict(X_test_80)\n",
        "svm_predictions_80 = svm_model.predict(X_test_80)\n",
        "mlp_predictions_80 = mlp_model.predict(X_test_80)\n",
        "\n",
        "# Calculating the number of incorrectly classified instances for 80/20 split\n",
        "incorrect_lr_80 = (y_test_80 != lr_predictions_80).sum()\n",
        "incorrect_svm_80 = (y_test_80 != svm_predictions_80).sum()\n",
        "incorrect_mlp_80 = (y_test_80 != mlp_predictions_80).sum()\n",
        "\n",
        "print(\"\\nRerun Experiment (80/20 Train, 20/80 Test Split)\")\n",
        "print(\"Incorrect Logistic Regression:\", incorrect_lr_80)\n",
        "print(\"Incorrect SVM:\", incorrect_svm_80)\n",
        "print(\"Incorrect MLP:\", incorrect_mlp_80)\n"
      ]
    }
  ]
}